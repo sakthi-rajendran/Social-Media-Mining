{
 "cells": [
  {
   "cell_type": "markdown",
   "metadata": {},
   "source": [
    "<h1><center>Sentiment Analysis on the Twitter Data</center></h1> "
   ]
  },
  {
   "cell_type": "markdown",
   "metadata": {},
   "source": [
    "<img src=\"syrlogo.png\" , width = 100, height =100/>"
   ]
  },
  {
   "cell_type": "markdown",
   "metadata": {},
   "source": [
    "<h2><center> A term project submitted for the course CIS 600 - Social Media & Data Mining, Spring 2018, Syracuse University, under the guidance of Mr. Martin Harrison </center></h2>  "
   ]
  },
  {
   "cell_type": "markdown",
   "metadata": {},
   "source": [
    "\n",
    "# Want to skip the process and see the results!? \n",
    "# GO TO THE VERY LAST CELL TO GIVE THE INPUT !! "
   ]
  },
  {
   "cell_type": "markdown",
   "metadata": {},
   "source": [
    "### Importing our process module \"SMMProcessModule\""
   ]
  },
  {
   "cell_type": "code",
   "execution_count": 5,
   "metadata": {
    "collapsed": true
   },
   "outputs": [],
   "source": [
    "import ipynb.fs  #Boilerplate required\n",
    "from .full.SMMProcessModule import *"
   ]
  },
  {
   "cell_type": "markdown",
   "metadata": {},
   "source": [
    "### Importing the required modules"
   ]
  },
  {
   "cell_type": "code",
   "execution_count": 6,
   "metadata": {
    "collapsed": true
   },
   "outputs": [],
   "source": [
    "from os import listdir\n",
    "from os.path import isfile, join\n",
    "from IPython.display import Image"
   ]
  },
  {
   "cell_type": "markdown",
   "metadata": {},
   "source": [
    "### Main function which is used to run the project. It makes calls to all the functions in SMMProcessModule module"
   ]
  },
  {
   "cell_type": "code",
   "execution_count": 7,
   "metadata": {
    "collapsed": true
   },
   "outputs": [],
   "source": [
    "def main():\n",
    "    files = [f.replace('.csv','') for f in listdir() if (isfile(f) and ('withloc.csv' in f))]\n",
    "    Dropdown=widgets.Dropdown(\n",
    "    options=files,\n",
    "    description='Datasets:',\n",
    "    disabled=False,\n",
    "    )\n",
    "    textbox=widgets.Text(\n",
    "    value='',\n",
    "    placeholder='Type something',\n",
    "    description='Hashtag:',\n",
    "    disabled=False\n",
    "    )\n",
    "    tab_contents = ['Process existing set', 'Process new Hashtags']\n",
    "    y=interactive(Analysis,filename=files)\n",
    "    textbox.on_submit(mainprocess)\n",
    "    children = [y,textbox]\n",
    "    tab = widgets.Tab()\n",
    "    tab.children = children\n",
    "    for i in range(len(children)):\n",
    "        tab.set_title(i, tab_contents[i])\n",
    "    display(tab)"
   ]
  },
  {
   "cell_type": "markdown",
   "metadata": {},
   "source": [
    "### Calling the main function here"
   ]
  },
  {
   "cell_type": "code",
   "execution_count": 8,
   "metadata": {},
   "outputs": [
    {
     "data": {
      "application/vnd.jupyter.widget-view+json": {
       "model_id": "85440e8ecef343fbb46e471eabfb5b07",
       "version_major": 2,
       "version_minor": 0
      },
      "text/plain": [
       "A Jupyter Widget"
      ]
     },
     "metadata": {},
     "output_type": "display_data"
    }
   ],
   "source": [
    "if __name__ == \"__main__\":\n",
    "    main()"
   ]
  },
  {
   "cell_type": "code",
   "execution_count": null,
   "metadata": {
    "collapsed": true
   },
   "outputs": [],
   "source": []
  }
 ],
 "metadata": {
  "kernelspec": {
   "display_name": "Python [default]",
   "language": "python",
   "name": "python3"
  },
  "language_info": {
   "codemirror_mode": {
    "name": "ipython",
    "version": 3
   },
   "file_extension": ".py",
   "mimetype": "text/x-python",
   "name": "python",
   "nbconvert_exporter": "python",
   "pygments_lexer": "ipython3",
   "version": "3.6.3"
  }
 },
 "nbformat": 4,
 "nbformat_minor": 2
}
